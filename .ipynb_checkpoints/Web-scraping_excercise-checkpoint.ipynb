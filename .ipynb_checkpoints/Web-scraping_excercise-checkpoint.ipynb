{
 "cells": [
  {
   "cell_type": "markdown",
   "metadata": {},
   "source": [
    "# Work with Web Data using Requests and Beautiful Soup packages"
   ]
  },
  {
   "cell_type": "markdown",
   "metadata": {},
   "source": [
    "I followed very useful tutorials from digitalocean [1](https://www.digitalocean.com/community/tutorials/how-to-work-with-web-data-using-requests-and-beautiful-soup-with-python-3), [2](https://www.digitalocean.com/community/tutorials/how-to-scrape-web-pages-with-beautiful-soup-and-python-3)."
   ]
  },
  {
   "cell_type": "code",
   "execution_count": 1,
   "metadata": {},
   "outputs": [],
   "source": [
    "import requests"
   ]
  },
  {
   "cell_type": "code",
   "execution_count": 44,
   "metadata": {},
   "outputs": [],
   "source": [
    "url = 'https://assets.digitalocean.com/articles/eng_python/beautiful-soup/mockturtle.html'\n",
    "page = requests.get(url)"
   ]
  },
  {
   "cell_type": "code",
   "execution_count": 45,
   "metadata": {},
   "outputs": [
    {
     "data": {
      "text/plain": [
       "<Response [200]>"
      ]
     },
     "execution_count": 45,
     "metadata": {},
     "output_type": "execute_result"
    }
   ],
   "source": [
    "page"
   ]
  },
  {
   "cell_type": "markdown",
   "metadata": {},
   "source": [
    "HTTP status codes of this response is 200 which means it is successfully downloaded."
   ]
  },
  {
   "cell_type": "code",
   "execution_count": 46,
   "metadata": {},
   "outputs": [
    {
     "data": {
      "text/plain": [
       "'<!DOCTYPE html PUBLIC \"-//W3C//DTD XHTML 1.0 Strict//EN\"\\n    \"http://www.w3.org/TR/xhtml1/DTD/xhtml1-strict.dtd\">\\n\\n<html lang=\"en-US\" xmlns=\"http://www.w3.org/1999/xhtml\" xml:lang=\"en-US\">\\n<head>\\n  <meta http-equiv=\"content-type\" content=\"text/html; charset=us-ascii\" />\\n\\n  <title>Turtle Soup</title>\\n</head>\\n\\n<body>\\n  <h1>Turtle Soup</h1>\\n\\n  <p class=\"verse\" id=\"first\">Beautiful Soup, so rich and green,<br />\\n  Waiting in a hot tureen!<br />\\n  Who for such dainties would not stoop?<br />\\n  Soup of the evening, beautiful Soup!<br />\\n  Soup of the evening, beautiful Soup!<br /></p>\\n\\n  <p class=\"chorus\" id=\"second\">Beau--ootiful Soo--oop!<br />\\n  Beau--ootiful Soo--oop!<br />\\n  Soo--oop of the e--e--evening,<br />\\n  Beautiful, beautiful Soup!<br /></p>\\n\\n  <p class=\"verse\" id=\"third\">Beautiful Soup! Who cares for fish,<br />\\n  Game or any other dish?<br />\\n  Who would not give all else for two<br />\\n  Pennyworth only of Beautiful Soup?<br />\\n  Pennyworth only of beautiful Soup?<br /></p>\\n\\n  <p class=\"chorus\" id=\"fourth\">Beau--ootiful Soo--oop!<br />\\n  Beau--ootiful Soo--oop!<br />\\n  Soo--oop of the e--e--evening,<br />\\n  Beautiful, beauti--FUL SOUP!<br /></p>\\n</body>\\n</html>\\n'"
      ]
     },
     "execution_count": 46,
     "metadata": {},
     "output_type": "execute_result"
    }
   ],
   "source": [
    "page.text #read the content"
   ]
  },
  {
   "cell_type": "code",
   "execution_count": 2,
   "metadata": {},
   "outputs": [],
   "source": [
    "from bs4 import BeautifulSoup"
   ]
  },
  {
   "cell_type": "code",
   "execution_count": 48,
   "metadata": {},
   "outputs": [],
   "source": [
    "soup = BeautifulSoup(page.text, 'html.parser') #parse tree from parsed page"
   ]
  },
  {
   "cell_type": "code",
   "execution_count": 49,
   "metadata": {},
   "outputs": [
    {
     "name": "stdout",
     "output_type": "stream",
     "text": [
      "<!DOCTYPE html PUBLIC \"-//W3C//DTD XHTML 1.0 Strict//EN\"\n",
      "    \"http://www.w3.org/TR/xhtml1/DTD/xhtml1-strict.dtd\">\n",
      "<html lang=\"en-US\" xml:lang=\"en-US\" xmlns=\"http://www.w3.org/1999/xhtml\">\n",
      " <head>\n",
      "  <meta content=\"text/html; charset=utf-8\" http-equiv=\"content-type\"/>\n",
      "  <title>\n",
      "   Turtle Soup\n",
      "  </title>\n",
      " </head>\n",
      " <body>\n",
      "  <h1>\n",
      "   Turtle Soup\n",
      "  </h1>\n",
      "  <p class=\"verse\" id=\"first\">\n",
      "   Beautiful Soup, so rich and green,\n",
      "   <br/>\n",
      "   Waiting in a hot tureen!\n",
      "   <br/>\n",
      "   Who for such dainties would not stoop?\n",
      "   <br/>\n",
      "   Soup of the evening, beautiful Soup!\n",
      "   <br/>\n",
      "   Soup of the evening, beautiful Soup!\n",
      "   <br/>\n",
      "  </p>\n",
      "  <p class=\"chorus\" id=\"second\">\n",
      "   Beau--ootiful Soo--oop!\n",
      "   <br/>\n",
      "   Beau--ootiful Soo--oop!\n",
      "   <br/>\n",
      "   Soo--oop of the e--e--evening,\n",
      "   <br/>\n",
      "   Beautiful, beautiful Soup!\n",
      "   <br/>\n",
      "  </p>\n",
      "  <p class=\"verse\" id=\"third\">\n",
      "   Beautiful Soup! Who cares for fish,\n",
      "   <br/>\n",
      "   Game or any other dish?\n",
      "   <br/>\n",
      "   Who would not give all else for two\n",
      "   <br/>\n",
      "   Pennyworth only of Beautiful Soup?\n",
      "   <br/>\n",
      "   Pennyworth only of beautiful Soup?\n",
      "   <br/>\n",
      "  </p>\n",
      "  <p class=\"chorus\" id=\"fourth\">\n",
      "   Beau--ootiful Soo--oop!\n",
      "   <br/>\n",
      "   Beau--ootiful Soo--oop!\n",
      "   <br/>\n",
      "   Soo--oop of the e--e--evening,\n",
      "   <br/>\n",
      "   Beautiful, beauti--FUL SOUP!\n",
      "   <br/>\n",
      "  </p>\n",
      " </body>\n",
      "</html>\n",
      "\n"
     ]
    }
   ],
   "source": [
    "print(soup.prettify())"
   ]
  },
  {
   "cell_type": "code",
   "execution_count": 50,
   "metadata": {},
   "outputs": [
    {
     "data": {
      "text/plain": [
       "[<p class=\"verse\" id=\"first\">Beautiful Soup, so rich and green,<br/>\n",
       "   Waiting in a hot tureen!<br/>\n",
       "   Who for such dainties would not stoop?<br/>\n",
       "   Soup of the evening, beautiful Soup!<br/>\n",
       "   Soup of the evening, beautiful Soup!<br/></p>,\n",
       " <p class=\"chorus\" id=\"second\">Beau--ootiful Soo--oop!<br/>\n",
       "   Beau--ootiful Soo--oop!<br/>\n",
       "   Soo--oop of the e--e--evening,<br/>\n",
       "   Beautiful, beautiful Soup!<br/></p>,\n",
       " <p class=\"verse\" id=\"third\">Beautiful Soup! Who cares for fish,<br/>\n",
       "   Game or any other dish?<br/>\n",
       "   Who would not give all else for two<br/>\n",
       "   Pennyworth only of Beautiful Soup?<br/>\n",
       "   Pennyworth only of beautiful Soup?<br/></p>,\n",
       " <p class=\"chorus\" id=\"fourth\">Beau--ootiful Soo--oop!<br/>\n",
       "   Beau--ootiful Soo--oop!<br/>\n",
       "   Soo--oop of the e--e--evening,<br/>\n",
       "   Beautiful, beauti--FUL SOUP!<br/></p>]"
      ]
     },
     "execution_count": 50,
     "metadata": {},
     "output_type": "execute_result"
    }
   ],
   "source": [
    "soup.find_all('p') #find instances of a tag"
   ]
  },
  {
   "cell_type": "code",
   "execution_count": 51,
   "metadata": {},
   "outputs": [
    {
     "data": {
      "text/plain": [
       "'Beautiful Soup! Who cares for fish,\\n  Game or any other dish?\\n  Who would not give all else for two\\n  Pennyworth only of Beautiful Soup?\\n  Pennyworth only of beautiful Soup?'"
      ]
     },
     "execution_count": 51,
     "metadata": {},
     "output_type": "execute_result"
    }
   ],
   "source": [
    "soup.find_all('p')[2].get_text() #extract the text of the third <p> element "
   ]
  },
  {
   "cell_type": "code",
   "execution_count": 52,
   "metadata": {},
   "outputs": [
    {
     "data": {
      "text/plain": [
       "[<p class=\"chorus\" id=\"second\">Beau--ootiful Soo--oop!<br/>\n",
       "   Beau--ootiful Soo--oop!<br/>\n",
       "   Soo--oop of the e--e--evening,<br/>\n",
       "   Beautiful, beautiful Soup!<br/></p>,\n",
       " <p class=\"chorus\" id=\"fourth\">Beau--ootiful Soo--oop!<br/>\n",
       "   Beau--ootiful Soo--oop!<br/>\n",
       "   Soo--oop of the e--e--evening,<br/>\n",
       "   Beautiful, beauti--FUL SOUP!<br/></p>]"
      ]
     },
     "execution_count": 52,
     "metadata": {},
     "output_type": "execute_result"
    }
   ],
   "source": [
    "soup.find_all(class_='chorus')"
   ]
  },
  {
   "cell_type": "code",
   "execution_count": 53,
   "metadata": {},
   "outputs": [
    {
     "data": {
      "text/plain": [
       "[<p class=\"chorus\" id=\"second\">Beau--ootiful Soo--oop!<br/>\n",
       "   Beau--ootiful Soo--oop!<br/>\n",
       "   Soo--oop of the e--e--evening,<br/>\n",
       "   Beautiful, beautiful Soup!<br/></p>,\n",
       " <p class=\"chorus\" id=\"fourth\">Beau--ootiful Soo--oop!<br/>\n",
       "   Beau--ootiful Soo--oop!<br/>\n",
       "   Soo--oop of the e--e--evening,<br/>\n",
       "   Beautiful, beauti--FUL SOUP!<br/></p>]"
      ]
     },
     "execution_count": 53,
     "metadata": {},
     "output_type": "execute_result"
    }
   ],
   "source": [
    "soup.find_all('p', class_='chorus')"
   ]
  },
  {
   "cell_type": "code",
   "execution_count": 54,
   "metadata": {},
   "outputs": [
    {
     "data": {
      "text/plain": [
       "[<p class=\"verse\" id=\"third\">Beautiful Soup! Who cares for fish,<br/>\n",
       "   Game or any other dish?<br/>\n",
       "   Who would not give all else for two<br/>\n",
       "   Pennyworth only of Beautiful Soup?<br/>\n",
       "   Pennyworth only of beautiful Soup?<br/></p>]"
      ]
     },
     "execution_count": 54,
     "metadata": {},
     "output_type": "execute_result"
    }
   ],
   "source": [
    "soup.find_all(id='third')"
   ]
  },
  {
   "cell_type": "markdown",
   "metadata": {},
   "source": [
    "# Collect and Parse a Web Page"
   ]
  },
  {
   "cell_type": "code",
   "execution_count": null,
   "metadata": {},
   "outputs": [],
   "source": [
    "# Collect first page of artists’ list\n",
    "page = requests.get('http://web.archive.org/web/20121007172955/http://www.nga.gov/collection/anZ1.htm')"
   ]
  },
  {
   "cell_type": "code",
   "execution_count": 68,
   "metadata": {},
   "outputs": [],
   "source": [
    "# Create a BeautifulSoup object(a parse tree)\n",
    "soup = BeautifulSoup(page.text, 'html.parser')"
   ]
  },
  {
   "cell_type": "markdown",
   "metadata": {},
   "source": [
    "We’ll collect artists’ names and the relevant links available on the website. From the inspect menu item in the browser, we’ll see first that the table of names is within div tags where class=\"BodyText\". This is important to note so that we only search for text within this section of the web page. We also notice that the name Zabaglia, Niccola is in a link tag, since the name references a web page that describes the artist. So we will want to reference the <a> tag for links. Each artist’s name is a reference to a link. "
   ]
  },
  {
   "cell_type": "code",
   "execution_count": 57,
   "metadata": {},
   "outputs": [],
   "source": [
    "# Pull all text from the BodyText div\n",
    "artist_name_list = soup.find(class_='BodyText')\n",
    "# Pull text from all instances of <a> tag within BodyText div\n",
    "artist_name_list_items = artist_name_list.find_all('a')"
   ]
  },
  {
   "cell_type": "code",
   "execution_count": 58,
   "metadata": {},
   "outputs": [
    {
     "name": "stdout",
     "output_type": "stream",
     "text": [
      "<a href=\"/web/20121007172955/http://www.nga.gov/cgi-bin/tsearch?artistid=11630\">\n",
      " Zabaglia, Niccola\n",
      "</a>\n",
      "<a href=\"/web/20121007172955/http://www.nga.gov/cgi-bin/tsearch?artistid=34202\">\n",
      " Zaccone, Fabian\n",
      "</a>\n",
      "<a href=\"/web/20121007172955/http://www.nga.gov/cgi-bin/tsearch?artistid=3475\">\n",
      " Zadkine, Ossip\n",
      "</a>\n",
      "<a href=\"/web/20121007172955/http://www.nga.gov/cgi-bin/tsearch?artistid=25135\">\n",
      " Zaech, Bernhard\n",
      "</a>\n",
      "<a href=\"/web/20121007172955/http://www.nga.gov/cgi-bin/tsearch?artistid=2298\">\n",
      " Zagar, Jacob\n",
      "</a>\n",
      "<a href=\"/web/20121007172955/http://www.nga.gov/cgi-bin/tsearch?artistid=23988\">\n",
      " Zagroba, Idalia\n",
      "</a>\n",
      "<a href=\"/web/20121007172955/http://www.nga.gov/cgi-bin/tsearch?artistid=8232\">\n",
      " Zaidenberg, A.\n",
      "</a>\n",
      "<a href=\"/web/20121007172955/http://www.nga.gov/cgi-bin/tsearch?artistid=34154\">\n",
      " Zaidenberg, Arthur\n",
      "</a>\n",
      "<a href=\"/web/20121007172955/http://www.nga.gov/cgi-bin/tsearch?artistid=4910\">\n",
      " Zaisinger, Matthäus\n",
      "</a>\n",
      "<a href=\"/web/20121007172955/http://www.nga.gov/cgi-bin/tsearch?artistid=3450\">\n",
      " Zajac, Jack\n",
      "</a>\n",
      "<a href=\"/web/20121007172955/http://www.nga.gov/cgi-bin/tsearch?artistid=1986\">\n",
      " Zak, Eugène\n",
      "</a>\n",
      "<a href=\"/web/20121007172955/http://www.nga.gov/cgi-bin/tsearch?artistid=3451\">\n",
      " Zakharov, Gurii Fillipovich\n",
      "</a>\n",
      "<a href=\"/web/20121007172955/http://www.nga.gov/cgi-bin/tsearch?artistid=20099\">\n",
      " Zakowortny, Igor\n",
      "</a>\n",
      "<a href=\"/web/20121007172955/http://www.nga.gov/cgi-bin/tsearch?artistid=3452\">\n",
      " Zalce, Alfredo\n",
      "</a>\n",
      "<a href=\"/web/20121007172955/http://www.nga.gov/cgi-bin/tsearch?artistid=34309\">\n",
      " Zalopany, Michele\n",
      "</a>\n",
      "<a href=\"/web/20121007172955/http://www.nga.gov/cgi-bin/tsearch?artistid=27191\">\n",
      " Zammiello, Craig\n",
      "</a>\n",
      "<a href=\"/web/20121007172955/http://www.nga.gov/cgi-bin/tsearch?artistid=5846\">\n",
      " Zammitt, Norman\n",
      "</a>\n",
      "<a href=\"/web/20121007172955/http://www.nga.gov/cgi-bin/tsearch?artistid=3941\">\n",
      " Zampieri, Domenico\n",
      "</a>\n",
      "<a href=\"/web/20121007172955/http://www.nga.gov/cgi-bin/tsearch?artistid=3941\">\n",
      " Zampieri, called Domenichino, Domenico\n",
      "</a>\n",
      "<a href=\"/web/20121007172955/http://www.nga.gov/cgi-bin/tsearch?artistid=3453\">\n",
      " Zanartú, Enrique Antunez\n",
      "</a>\n",
      "<a href=\"/web/20121007172955/http://www.nga.gov/cgi-bin/tsearch?artistid=35173\">\n",
      " Zanchi, Antonio\n",
      "</a>\n",
      "<a href=\"/web/20121007172955/http://www.nga.gov/cgi-bin/tsearch?artistid=11133\">\n",
      " Zanetti, Anton Maria\n",
      "</a>\n",
      "<a href=\"/web/20121007172955/http://www.nga.gov/cgi-bin/tsearch?artistid=3455\">\n",
      " Zanetti Borzino, Leopoldina\n",
      "</a>\n",
      "<a href=\"/web/20121007172955/http://www.nga.gov/cgi-bin/tsearch?artistid=3454\">\n",
      " Zanetti I, Antonio Maria, conte\n",
      "</a>\n",
      "<a href=\"/web/20121007172955/http://www.nga.gov/cgi-bin/tsearch?artistid=961\">\n",
      " Zanguidi, Jacopo\n",
      "</a>\n",
      "<a href=\"/web/20121007172955/http://www.nga.gov/cgi-bin/tsearch?artistid=11597\">\n",
      " Zanini, Giuseppe\n",
      "</a>\n",
      "<a href=\"/web/20121007172955/http://www.nga.gov/cgi-bin/tsearch?artistid=11597\">\n",
      " Zanini-Viola, Giuseppe\n",
      "</a>\n",
      "<a href=\"/web/20121007172955/http://www.nga.gov/cgi-bin/tsearch?artistid=11631\">\n",
      " Zanotti, Giampietro\n",
      "</a>\n",
      "<a href=\"/web/20121007172955/http://www.nga.gov/cgi-bin/tsearch?artistid=3427\">\n",
      " Zao Wou-Ki\n",
      "</a>\n",
      "<a href=\"/web/20121007172955/http://www.nga.gov/collection/anZ2.htm\">\n",
      " Zas-Zie\n",
      "</a>\n",
      "\n",
      "<a href=\"/web/20121007172955/http://www.nga.gov/collection/anZ3.htm\">\n",
      " Zie-Zor\n",
      "</a>\n",
      "\n",
      "<a href=\"/web/20121007172955/http://www.nga.gov/collection/anZ4.htm\">\n",
      " <strong>\n",
      "  next\n",
      "  <br/>\n",
      "  page\n",
      " </strong>\n",
      "</a>\n"
     ]
    }
   ],
   "source": [
    "# Create for loop to print out all artists' names\n",
    "for artist_name in artist_name_list_items:\n",
    "    print(artist_name.prettify())"
   ]
  },
  {
   "cell_type": "markdown",
   "metadata": {},
   "source": [
    "There are bottom links which doesn't give information about the artists and we want to delete it. When we Inspact the DOM, we will se that the links are contained in an HTML table: table class=\"AlphaNav\""
   ]
  },
  {
   "cell_type": "code",
   "execution_count": 69,
   "metadata": {},
   "outputs": [],
   "source": [
    "# Remove bottom links\n",
    "last_links = soup.find(class_='AlphaNav')\n",
    "last_links.decompose()\n"
   ]
  },
  {
   "cell_type": "code",
   "execution_count": 70,
   "metadata": {},
   "outputs": [
    {
     "name": "stdout",
     "output_type": "stream",
     "text": [
      "<a href=\"/web/20121007172955/http://www.nga.gov/cgi-bin/tsearch?artistid=11630\">\n",
      " Zabaglia, Niccola\n",
      "</a>\n",
      "<a href=\"/web/20121007172955/http://www.nga.gov/cgi-bin/tsearch?artistid=34202\">\n",
      " Zaccone, Fabian\n",
      "</a>\n",
      "<a href=\"/web/20121007172955/http://www.nga.gov/cgi-bin/tsearch?artistid=3475\">\n",
      " Zadkine, Ossip\n",
      "</a>\n",
      "<a href=\"/web/20121007172955/http://www.nga.gov/cgi-bin/tsearch?artistid=25135\">\n",
      " Zaech, Bernhard\n",
      "</a>\n",
      "<a href=\"/web/20121007172955/http://www.nga.gov/cgi-bin/tsearch?artistid=2298\">\n",
      " Zagar, Jacob\n",
      "</a>\n",
      "<a href=\"/web/20121007172955/http://www.nga.gov/cgi-bin/tsearch?artistid=23988\">\n",
      " Zagroba, Idalia\n",
      "</a>\n",
      "<a href=\"/web/20121007172955/http://www.nga.gov/cgi-bin/tsearch?artistid=8232\">\n",
      " Zaidenberg, A.\n",
      "</a>\n",
      "<a href=\"/web/20121007172955/http://www.nga.gov/cgi-bin/tsearch?artistid=34154\">\n",
      " Zaidenberg, Arthur\n",
      "</a>\n",
      "<a href=\"/web/20121007172955/http://www.nga.gov/cgi-bin/tsearch?artistid=4910\">\n",
      " Zaisinger, Matthäus\n",
      "</a>\n",
      "<a href=\"/web/20121007172955/http://www.nga.gov/cgi-bin/tsearch?artistid=3450\">\n",
      " Zajac, Jack\n",
      "</a>\n",
      "<a href=\"/web/20121007172955/http://www.nga.gov/cgi-bin/tsearch?artistid=1986\">\n",
      " Zak, Eugène\n",
      "</a>\n",
      "<a href=\"/web/20121007172955/http://www.nga.gov/cgi-bin/tsearch?artistid=3451\">\n",
      " Zakharov, Gurii Fillipovich\n",
      "</a>\n",
      "<a href=\"/web/20121007172955/http://www.nga.gov/cgi-bin/tsearch?artistid=20099\">\n",
      " Zakowortny, Igor\n",
      "</a>\n",
      "<a href=\"/web/20121007172955/http://www.nga.gov/cgi-bin/tsearch?artistid=3452\">\n",
      " Zalce, Alfredo\n",
      "</a>\n",
      "<a href=\"/web/20121007172955/http://www.nga.gov/cgi-bin/tsearch?artistid=34309\">\n",
      " Zalopany, Michele\n",
      "</a>\n",
      "<a href=\"/web/20121007172955/http://www.nga.gov/cgi-bin/tsearch?artistid=27191\">\n",
      " Zammiello, Craig\n",
      "</a>\n",
      "<a href=\"/web/20121007172955/http://www.nga.gov/cgi-bin/tsearch?artistid=5846\">\n",
      " Zammitt, Norman\n",
      "</a>\n",
      "<a href=\"/web/20121007172955/http://www.nga.gov/cgi-bin/tsearch?artistid=3941\">\n",
      " Zampieri, Domenico\n",
      "</a>\n",
      "<a href=\"/web/20121007172955/http://www.nga.gov/cgi-bin/tsearch?artistid=3941\">\n",
      " Zampieri, called Domenichino, Domenico\n",
      "</a>\n",
      "<a href=\"/web/20121007172955/http://www.nga.gov/cgi-bin/tsearch?artistid=3453\">\n",
      " Zanartú, Enrique Antunez\n",
      "</a>\n",
      "<a href=\"/web/20121007172955/http://www.nga.gov/cgi-bin/tsearch?artistid=35173\">\n",
      " Zanchi, Antonio\n",
      "</a>\n",
      "<a href=\"/web/20121007172955/http://www.nga.gov/cgi-bin/tsearch?artistid=11133\">\n",
      " Zanetti, Anton Maria\n",
      "</a>\n",
      "<a href=\"/web/20121007172955/http://www.nga.gov/cgi-bin/tsearch?artistid=3455\">\n",
      " Zanetti Borzino, Leopoldina\n",
      "</a>\n",
      "<a href=\"/web/20121007172955/http://www.nga.gov/cgi-bin/tsearch?artistid=3454\">\n",
      " Zanetti I, Antonio Maria, conte\n",
      "</a>\n",
      "<a href=\"/web/20121007172955/http://www.nga.gov/cgi-bin/tsearch?artistid=961\">\n",
      " Zanguidi, Jacopo\n",
      "</a>\n",
      "<a href=\"/web/20121007172955/http://www.nga.gov/cgi-bin/tsearch?artistid=11597\">\n",
      " Zanini, Giuseppe\n",
      "</a>\n",
      "<a href=\"/web/20121007172955/http://www.nga.gov/cgi-bin/tsearch?artistid=11597\">\n",
      " Zanini-Viola, Giuseppe\n",
      "</a>\n",
      "<a href=\"/web/20121007172955/http://www.nga.gov/cgi-bin/tsearch?artistid=11631\">\n",
      " Zanotti, Giampietro\n",
      "</a>\n",
      "<a href=\"/web/20121007172955/http://www.nga.gov/cgi-bin/tsearch?artistid=3427\">\n",
      " Zao Wou-Ki\n",
      "</a>\n"
     ]
    }
   ],
   "source": [
    "# Pull all text from the BodyText div\n",
    "artist_name_list = soup.find(class_='BodyText')\n",
    "# Pull text from all instances of <a> tag within BodyText div\n",
    "artist_name_list_items = artist_name_list.find_all('a')\n",
    "\n",
    "# Create for loop to print out all artists' names\n",
    "for artist_name in artist_name_list_items:\n",
    "    print(artist_name.prettify())"
   ]
  },
  {
   "cell_type": "code",
   "execution_count": 62,
   "metadata": {},
   "outputs": [
    {
     "name": "stdout",
     "output_type": "stream",
     "text": [
      "Zabaglia, Niccola\n",
      "https://web.archive.org/web/20121007172955/http://www.nga.gov/cgi-bin/tsearch?artistid=11630\n",
      "Zaccone, Fabian\n",
      "https://web.archive.org/web/20121007172955/http://www.nga.gov/cgi-bin/tsearch?artistid=34202\n",
      "Zadkine, Ossip\n",
      "https://web.archive.org/web/20121007172955/http://www.nga.gov/cgi-bin/tsearch?artistid=3475\n",
      "Zaech, Bernhard\n",
      "https://web.archive.org/web/20121007172955/http://www.nga.gov/cgi-bin/tsearch?artistid=25135\n",
      "Zagar, Jacob\n",
      "https://web.archive.org/web/20121007172955/http://www.nga.gov/cgi-bin/tsearch?artistid=2298\n",
      "Zagroba, Idalia\n",
      "https://web.archive.org/web/20121007172955/http://www.nga.gov/cgi-bin/tsearch?artistid=23988\n",
      "Zaidenberg, A.\n",
      "https://web.archive.org/web/20121007172955/http://www.nga.gov/cgi-bin/tsearch?artistid=8232\n",
      "Zaidenberg, Arthur\n",
      "https://web.archive.org/web/20121007172955/http://www.nga.gov/cgi-bin/tsearch?artistid=34154\n",
      "Zaisinger, Matthäus\n",
      "https://web.archive.org/web/20121007172955/http://www.nga.gov/cgi-bin/tsearch?artistid=4910\n",
      "Zajac, Jack\n",
      "https://web.archive.org/web/20121007172955/http://www.nga.gov/cgi-bin/tsearch?artistid=3450\n",
      "Zak, Eugène\n",
      "https://web.archive.org/web/20121007172955/http://www.nga.gov/cgi-bin/tsearch?artistid=1986\n",
      "Zakharov, Gurii Fillipovich\n",
      "https://web.archive.org/web/20121007172955/http://www.nga.gov/cgi-bin/tsearch?artistid=3451\n",
      "Zakowortny, Igor\n",
      "https://web.archive.org/web/20121007172955/http://www.nga.gov/cgi-bin/tsearch?artistid=20099\n",
      "Zalce, Alfredo\n",
      "https://web.archive.org/web/20121007172955/http://www.nga.gov/cgi-bin/tsearch?artistid=3452\n",
      "Zalopany, Michele\n",
      "https://web.archive.org/web/20121007172955/http://www.nga.gov/cgi-bin/tsearch?artistid=34309\n",
      "Zammiello, Craig\n",
      "https://web.archive.org/web/20121007172955/http://www.nga.gov/cgi-bin/tsearch?artistid=27191\n",
      "Zammitt, Norman\n",
      "https://web.archive.org/web/20121007172955/http://www.nga.gov/cgi-bin/tsearch?artistid=5846\n",
      "Zampieri, Domenico\n",
      "https://web.archive.org/web/20121007172955/http://www.nga.gov/cgi-bin/tsearch?artistid=3941\n",
      "Zampieri, called Domenichino, Domenico\n",
      "https://web.archive.org/web/20121007172955/http://www.nga.gov/cgi-bin/tsearch?artistid=3941\n",
      "Zanartú, Enrique Antunez\n",
      "https://web.archive.org/web/20121007172955/http://www.nga.gov/cgi-bin/tsearch?artistid=3453\n",
      "Zanchi, Antonio\n",
      "https://web.archive.org/web/20121007172955/http://www.nga.gov/cgi-bin/tsearch?artistid=35173\n",
      "Zanetti, Anton Maria\n",
      "https://web.archive.org/web/20121007172955/http://www.nga.gov/cgi-bin/tsearch?artistid=11133\n",
      "Zanetti Borzino, Leopoldina\n",
      "https://web.archive.org/web/20121007172955/http://www.nga.gov/cgi-bin/tsearch?artistid=3455\n",
      "Zanetti I, Antonio Maria, conte\n",
      "https://web.archive.org/web/20121007172955/http://www.nga.gov/cgi-bin/tsearch?artistid=3454\n",
      "Zanguidi, Jacopo\n",
      "https://web.archive.org/web/20121007172955/http://www.nga.gov/cgi-bin/tsearch?artistid=961\n",
      "Zanini, Giuseppe\n",
      "https://web.archive.org/web/20121007172955/http://www.nga.gov/cgi-bin/tsearch?artistid=11597\n",
      "Zanini-Viola, Giuseppe\n",
      "https://web.archive.org/web/20121007172955/http://www.nga.gov/cgi-bin/tsearch?artistid=11597\n",
      "Zanotti, Giampietro\n",
      "https://web.archive.org/web/20121007172955/http://www.nga.gov/cgi-bin/tsearch?artistid=11631\n",
      "Zao Wou-Ki\n",
      "https://web.archive.org/web/20121007172955/http://www.nga.gov/cgi-bin/tsearch?artistid=3427\n"
     ]
    }
   ],
   "source": [
    "# Use .contents to pull out the <a> tag’s children\n",
    "for artist_name in artist_name_list_items:\n",
    "    names = artist_name.contents[0]\n",
    "    links = 'https://web.archive.org' + artist_name.get('href') # capture the links as well\n",
    "    print(names)\n",
    "    print(links)"
   ]
  },
  {
   "cell_type": "markdown",
   "metadata": {},
   "source": [
    "### Writing the Data to a CSV File"
   ]
  },
  {
   "cell_type": "code",
   "execution_count": 4,
   "metadata": {},
   "outputs": [],
   "source": [
    "import csv"
   ]
  },
  {
   "cell_type": "code",
   "execution_count": 5,
   "metadata": {},
   "outputs": [
    {
     "data": {
      "text/plain": [
       "11"
      ]
     },
     "execution_count": 5,
     "metadata": {},
     "output_type": "execute_result"
    }
   ],
   "source": [
    "f = csv.writer(open('z-artist-names.csv', 'w'))\n",
    "f.writerow(['Name','Link'])"
   ]
  },
  {
   "cell_type": "code",
   "execution_count": 71,
   "metadata": {},
   "outputs": [],
   "source": [
    "for artist_name in artist_name_list_items:\n",
    "    names = artist_name.contents[0]\n",
    "    links = 'https://web.archive.org' + artist_name.get('href')\n",
    "\n",
    "\n",
    "    # Add each artist’s name and associated link to a row\n",
    "    f.writerow([names, links])"
   ]
  },
  {
   "cell_type": "markdown",
   "metadata": {},
   "source": [
    "* Total Code written so far ;"
   ]
  },
  {
   "cell_type": "code",
   "execution_count": 74,
   "metadata": {},
   "outputs": [],
   "source": [
    "page = requests.get('http://web.archive.org/web/20121007172955/http://www.nga.gov/collection/anZ1.htm')\n",
    "\n",
    "soup = BeautifulSoup(page.text, 'html.parser')\n",
    "\n",
    "last_links = soup.find(class_='AlphaNav')\n",
    "last_links.decompose()\n",
    "\n",
    "# Create a file to write to, add headers row\n",
    "f = csv.writer(open('z-artist-names.csv', 'w'))\n",
    "f.writerow(['Name', 'Link'])\n",
    "\n",
    "artist_name_list = soup.find(class_='BodyText')\n",
    "artist_name_list_items = artist_name_list.find_all('a')\n",
    "\n",
    "for artist_name in artist_name_list_items:\n",
    "    names = artist_name.contents[0]\n",
    "    links = 'https://web.archive.org' + artist_name.get('href')\n",
    "\n",
    "\n",
    "    # Add each artist’s name and associated link to a row\n",
    "    f.writerow([names, links])\n",
    "    "
   ]
  },
  {
   "cell_type": "markdown",
   "metadata": {},
   "source": [
    "Now, we will collect data from all 4 pages."
   ]
  },
  {
   "cell_type": "markdown",
   "metadata": {},
   "source": [
    "After creating csv file and giving first row as Name and Link, we will rewrite the code with for loops in order to scrap data from 4 pages;"
   ]
  },
  {
   "cell_type": "code",
   "execution_count": 6,
   "metadata": {},
   "outputs": [],
   "source": [
    "pages = []\n",
    "\n",
    "for i in range(1, 5):\n",
    "    url = 'http://web.archive.org/web/20121007172955/https://www.nga.gov/collection/anZ' + str(i) + '.htm'\n",
    "    pages.append(url)\n",
    "\n",
    "\n",
    "for item in pages:\n",
    "    page = requests.get(item)\n",
    "    soup = BeautifulSoup(page.text, 'html.parser')\n",
    "\n",
    "    last_links = soup.find(class_='AlphaNav')\n",
    "    last_links.decompose()\n",
    "\n",
    "    artist_name_list = soup.find(class_='BodyText')\n",
    "    artist_name_list_items = artist_name_list.find_all('a')\n",
    "\n",
    "    for artist_name in artist_name_list_items:\n",
    "        names = artist_name.contents[0]\n",
    "        links = 'https://web.archive.org' + artist_name.get('href')\n",
    "\n",
    "        f.writerow([names, links])"
   ]
  }
 ],
 "metadata": {
  "kernelspec": {
   "display_name": "Python 3",
   "language": "python",
   "name": "python3"
  },
  "language_info": {
   "codemirror_mode": {
    "name": "ipython",
    "version": 3
   },
   "file_extension": ".py",
   "mimetype": "text/x-python",
   "name": "python",
   "nbconvert_exporter": "python",
   "pygments_lexer": "ipython3",
   "version": "3.7.3"
  }
 },
 "nbformat": 4,
 "nbformat_minor": 4
}
